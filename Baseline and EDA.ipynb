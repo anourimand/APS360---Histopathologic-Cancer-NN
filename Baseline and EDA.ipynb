{
  "nbformat": 4,
  "nbformat_minor": 0,
  "metadata": {
    "colab": {
      "name": "Baseline and EDA",
      "provenance": [],
      "collapsed_sections": []
    },
    "kernelspec": {
      "name": "python3",
      "display_name": "Python 3"
    },
    "accelerator": "GPU"
  },
  "cells": [
    {
      "cell_type": "code",
      "metadata": {
        "id": "MeN9vwLtNaYH",
        "colab_type": "code",
        "outputId": "12e0d156-eb5e-48e5-9d3a-d1afeaa9259c",
        "colab": {
          "base_uri": "https://localhost:8080/",
          "height": 238
        }
      },
      "source": [
        "# Downloading the data from Kaggle API, since it's really slow on windows\n",
        "\n",
        "import os\n",
        "username = 'arashnourimand'\n",
        "key = '8958f5601aace24552a78e2c692b9297'\n",
        "os.environ['KAGGLE_USERNAME'] = username \n",
        "os.environ['KAGGLE_KEY'] = key\n",
        "\n",
        "!kaggle competitions download -c histopathologic-cancer-detection #api link copied from kaggle competition"
      ],
      "execution_count": 0,
      "outputs": [
        {
          "output_type": "stream",
          "text": [
            "Warning: Looks like you're using an outdated API Version, please consider updating (server 1.5.6 / client 1.5.4)\n",
            "Downloading sample_submission.csv.zip to /content\n",
            "  0% 0.00/1.33M [00:00<?, ?B/s]\n",
            "100% 1.33M/1.33M [00:00<00:00, 94.0MB/s]\n",
            "Downloading train_labels.csv.zip to /content\n",
            "  0% 0.00/5.10M [00:00<?, ?B/s]\n",
            "100% 5.10M/5.10M [00:00<00:00, 84.0MB/s]\n",
            "Downloading test.zip to /content\n",
            " 99% 1.29G/1.30G [00:23<00:00, 42.3MB/s]\n",
            "100% 1.30G/1.30G [00:23<00:00, 59.1MB/s]\n",
            "Downloading train.zip to /content\n",
            "100% 4.97G/4.98G [00:52<00:00, 102MB/s] \n",
            "100% 4.98G/4.98G [00:52<00:00, 101MB/s]\n"
          ],
          "name": "stdout"
        }
      ]
    },
    {
      "cell_type": "code",
      "metadata": {
        "id": "PA1JoEwqPtX8",
        "colab_type": "code",
        "outputId": "a2e0ea42-6e45-475c-ecfc-818738e1096d",
        "colab": {
          "base_uri": "https://localhost:8080/",
          "height": 122
        }
      },
      "source": [
        "# All of the data has been downladed, but it is still zipped. Exploratory data analysis of the 2 csv files\n",
        "\n",
        "import pandas as pd #for the data conversions and analysis\n",
        "from google.colab import drive #to access the data\n",
        "from PIL import Image\n",
        "from zipfile import ZipFile\n",
        "import csv\n",
        "\n",
        "drive.mount('/content/gdrive')\n",
        "\n",
        "train_labels_path = '/content/train_labels.csv.zip'\n",
        "train_pics_path = '/content/train.zip'\n",
        "test_pics_path = '/content/test.zip'\n",
        "\n",
        "with ZipFile(train_labels_path) as labelzip:\n",
        "    labels_csv = labelzip.namelist()\n",
        "    with labelzip.open(labels_csv[0]) as myfile:\n",
        "        traincsvfile = myfile.read()"
      ],
      "execution_count": 0,
      "outputs": [
        {
          "output_type": "stream",
          "text": [
            "Go to this URL in a browser: https://accounts.google.com/o/oauth2/auth?client_id=947318989803-6bn6qk8qdgf4n4g3pfee6491hc0brc4i.apps.googleusercontent.com&redirect_uri=urn%3aietf%3awg%3aoauth%3a2.0%3aoob&response_type=code&scope=email%20https%3a%2f%2fwww.googleapis.com%2fauth%2fdocs.test%20https%3a%2f%2fwww.googleapis.com%2fauth%2fdrive%20https%3a%2f%2fwww.googleapis.com%2fauth%2fdrive.photos.readonly%20https%3a%2f%2fwww.googleapis.com%2fauth%2fpeopleapi.readonly\n",
            "\n",
            "Enter your authorization code:\n",
            "··········\n",
            "Mounted at /content/gdrive\n"
          ],
          "name": "stdout"
        }
      ]
    },
    {
      "cell_type": "code",
      "metadata": {
        "id": "SpURBVr9QLWZ",
        "colab_type": "code",
        "outputId": "3cb2295f-043f-4ad4-cf4d-f361c0b2077c",
        "colab": {
          "base_uri": "https://localhost:8080/",
          "height": 238
        }
      },
      "source": [
        "#Convert the extracted csv file into an actual dataframe for analysis\n",
        "labels_df = pd.read_csv('train_labels.csv.zip')\n",
        "print(labels_df.describe(),'\\n') # 1 = presence of cancerous tissue and 0 = non-cancerous \n",
        "print(labels_df['label'].value_counts()) #shows the number of values that are present"
      ],
      "execution_count": 0,
      "outputs": [
        {
          "output_type": "stream",
          "text": [
            "               label\n",
            "count  220025.000000\n",
            "mean        0.405031\n",
            "std         0.490899\n",
            "min         0.000000\n",
            "25%         0.000000\n",
            "50%         0.000000\n",
            "75%         1.000000\n",
            "max         1.000000 \n",
            "\n",
            "0    130908\n",
            "1     89117\n",
            "Name: label, dtype: int64\n"
          ],
          "name": "stdout"
        }
      ]
    },
    {
      "cell_type": "code",
      "metadata": {
        "id": "sG34YY2fRVQe",
        "colab_type": "code",
        "outputId": "f05121e2-a659-42fc-85a2-aa56cea6ff64",
        "colab": {
          "base_uri": "https://localhost:8080/",
          "height": 51
        }
      },
      "source": [
        "# Extraction of the training images\n",
        "with ZipFile(train_pics_path) as myzip:\n",
        "    pics_in_zip = myzip.namelist()\n",
        "    #with myzip.open(pics_in_zip[0]) as myfile:\n",
        "      #  img = Image.open(myfile)\n",
        "num_train_pics = len(pics_in_zip)\n",
        "print(num_train_pics) #number of pictures\n",
        "print(pics_in_zip[0][:-4]) #image file name without the filetype (.tif)"
      ],
      "execution_count": 0,
      "outputs": [
        {
          "output_type": "stream",
          "text": [
            "220025\n",
            "019ce31cc317087ca287f66ad757776952826594\n"
          ],
          "name": "stdout"
        }
      ]
    },
    {
      "cell_type": "code",
      "metadata": {
        "id": "I64Ecu_lWh63",
        "colab_type": "code",
        "colab": {}
      },
      "source": [
        "#with the images able to be extracted, time to extract the information. First, must view the images\n",
        "import matplotlib.pyplot as plt\n",
        "import matplotlib.image as mpimg\n",
        "%matplotlib inline\n",
        "\n",
        "#code to extract the picture information\n",
        "sample_img_arr = []\n",
        "for i in range(10):\n",
        "  with ZipFile(train_pics_path) as myzip:\n",
        "      with myzip.open(pics_in_zip[i]) as myfile:\n",
        "          sample_img_arr.append(Image.open(myfile))"
      ],
      "execution_count": 0,
      "outputs": []
    },
    {
      "cell_type": "code",
      "metadata": {
        "id": "vNEIO3Bq2Izs",
        "colab_type": "code",
        "outputId": "31d27507-d620-4dca-d7aa-0770a80401f1",
        "colab": {
          "base_uri": "https://localhost:8080/",
          "height": 285
        }
      },
      "source": [
        "plt.imshow(sample_img_arr[0])"
      ],
      "execution_count": 0,
      "outputs": [
        {
          "output_type": "execute_result",
          "data": {
            "text/plain": [
              "<matplotlib.image.AxesImage at 0x7f84c6e072e8>"
            ]
          },
          "metadata": {
            "tags": []
          },
          "execution_count": 42
        },
        {
          "output_type": "display_data",
          "data": {
            "image/png": "[encoded data removed]",
            "text/plain": [
              "<Figure size 432x288 with 1 Axes>"
            ]
          },
          "metadata": {
            "tags": []
          }
        }
      ]
    },
    {
      "cell_type": "code",
      "metadata": {
        "id": "gmmg0frtX1Yp",
        "colab_type": "code",
        "outputId": "16ca8dfe-953c-41ea-9820-bf9d0b692ed5",
        "colab": {
          "base_uri": "https://localhost:8080/",
          "height": 231
        }
      },
      "source": [
        "# Now that pictures are visible, it is time to make them black and white and extract the BW \n",
        "# information into numpy arrays\n",
        "\n",
        "from PIL import Image\n",
        "\n",
        "# First see how images can be as black and white --> this is so that the processing of data and predictions can be easier\n",
        "color_img = sample_img_arr[4]\n",
        "bw_img = color_img.convert('LA')\n",
        "plt.imshow(bw_img)\n",
        " \n",
        "# Below is a black and white image"
      ],
      "execution_count": 0,
      "outputs": [
        {
          "output_type": "error",
          "ename": "NameError",
          "evalue": "ignored",
          "traceback": [
            "\u001b[0;31m---------------------------------------------------------------------------\u001b[0m",
            "\u001b[0;31mNameError\u001b[0m                                 Traceback (most recent call last)",
            "\u001b[0;32m<ipython-input-6-ba26358791c1>\u001b[0m in \u001b[0;36m<module>\u001b[0;34m()\u001b[0m\n\u001b[1;32m      3\u001b[0m \u001b[0;34m\u001b[0m\u001b[0m\n\u001b[1;32m      4\u001b[0m \u001b[0;31m# First see how images can be as black and white --> this is so that the processing of data and predictions can be easier\u001b[0m\u001b[0;34m\u001b[0m\u001b[0;34m\u001b[0m\u001b[0;34m\u001b[0m\u001b[0m\n\u001b[0;32m----> 5\u001b[0;31m \u001b[0mcolor_img\u001b[0m \u001b[0;34m=\u001b[0m \u001b[0msample_img_arr\u001b[0m\u001b[0;34m[\u001b[0m\u001b[0;36m4\u001b[0m\u001b[0;34m]\u001b[0m\u001b[0;34m\u001b[0m\u001b[0;34m\u001b[0m\u001b[0m\n\u001b[0m\u001b[1;32m      6\u001b[0m \u001b[0mbw_img\u001b[0m \u001b[0;34m=\u001b[0m \u001b[0mcolor_img\u001b[0m\u001b[0;34m.\u001b[0m\u001b[0mconvert\u001b[0m\u001b[0;34m(\u001b[0m\u001b[0;34m'LA'\u001b[0m\u001b[0;34m)\u001b[0m\u001b[0;34m\u001b[0m\u001b[0;34m\u001b[0m\u001b[0m\n\u001b[1;32m      7\u001b[0m \u001b[0mplt\u001b[0m\u001b[0;34m.\u001b[0m\u001b[0mimshow\u001b[0m\u001b[0;34m(\u001b[0m\u001b[0mbw_img\u001b[0m\u001b[0;34m)\u001b[0m\u001b[0;34m\u001b[0m\u001b[0;34m\u001b[0m\u001b[0m\n",
            "\u001b[0;31mNameError\u001b[0m: name 'sample_img_arr' is not defined"
          ]
        }
      ]
    },
    {
      "cell_type": "code",
      "metadata": {
        "id": "tTlHzk_ua1Tn",
        "colab_type": "code",
        "outputId": "cf7d00dd-b87b-4355-8236-6f43c837d2cc",
        "colab": {
          "base_uri": "https://localhost:8080/",
          "height": 231
        }
      },
      "source": [
        "# now it is time to create the image arrat\n",
        "\n",
        "import numpy as np\n",
        "\n",
        "pix_val = list(bw_img.getdata())\n",
        "pix_val = np.asarray(pix_val) #shows the array as 9216 2 element vectors in form (x,y) where x = black intensity and y = white intensity\n",
        "print(pix_val.shape)\n",
        "\n"
      ],
      "execution_count": 0,
      "outputs": [
        {
          "output_type": "error",
          "ename": "NameError",
          "evalue": "ignored",
          "traceback": [
            "\u001b[0;31m---------------------------------------------------------------------------\u001b[0m",
            "\u001b[0;31mNameError\u001b[0m                                 Traceback (most recent call last)",
            "\u001b[0;32m<ipython-input-5-190245c51014>\u001b[0m in \u001b[0;36m<module>\u001b[0;34m()\u001b[0m\n\u001b[1;32m      2\u001b[0m \u001b[0;32mimport\u001b[0m \u001b[0mnumpy\u001b[0m \u001b[0;32mas\u001b[0m \u001b[0mnp\u001b[0m\u001b[0;34m\u001b[0m\u001b[0;34m\u001b[0m\u001b[0m\n\u001b[1;32m      3\u001b[0m \u001b[0;34m\u001b[0m\u001b[0m\n\u001b[0;32m----> 4\u001b[0;31m \u001b[0mpix_val\u001b[0m \u001b[0;34m=\u001b[0m \u001b[0mlist\u001b[0m\u001b[0;34m(\u001b[0m\u001b[0mbw_img\u001b[0m\u001b[0;34m.\u001b[0m\u001b[0mgetdata\u001b[0m\u001b[0;34m(\u001b[0m\u001b[0;34m)\u001b[0m\u001b[0;34m)\u001b[0m\u001b[0;34m\u001b[0m\u001b[0;34m\u001b[0m\u001b[0m\n\u001b[0m\u001b[1;32m      5\u001b[0m \u001b[0mpix_val\u001b[0m \u001b[0;34m=\u001b[0m \u001b[0mnp\u001b[0m\u001b[0;34m.\u001b[0m\u001b[0masarray\u001b[0m\u001b[0;34m(\u001b[0m\u001b[0mpix_val\u001b[0m\u001b[0;34m)\u001b[0m \u001b[0;31m#shows the array as 9216 2 element vectors in form (x,y) where x = black intensity and y = white intensity\u001b[0m\u001b[0;34m\u001b[0m\u001b[0;34m\u001b[0m\u001b[0m\n\u001b[1;32m      6\u001b[0m \u001b[0mprint\u001b[0m\u001b[0;34m(\u001b[0m\u001b[0mpix_val\u001b[0m\u001b[0;34m.\u001b[0m\u001b[0mshape\u001b[0m\u001b[0;34m)\u001b[0m\u001b[0;34m\u001b[0m\u001b[0;34m\u001b[0m\u001b[0m\n",
            "\u001b[0;31mNameError\u001b[0m: name 'bw_img' is not defined"
          ]
        }
      ]
    },
    {
      "cell_type": "code",
      "metadata": {
        "id": "jjvL2GAs47Ac",
        "colab_type": "code",
        "colab": {}
      },
      "source": [
        "\"\"\"\n",
        "Create code to do the following:\n",
        "  1) extract all of the images from the training images\n",
        "  2) convert the images to grayscale\n",
        "  3) extract the mean, median, and mode B and W image values from training data and append to a numpy array\n",
        "  4) take the cancerous presency (0/1) of training data and append this as the target outcome\n",
        "  5) repeat steps 3/4 for the test data\n",
        "  6) train a logistic regression model as the baseline to assess the accuracy using these values\n",
        "  \n",
        "\"\"\""
      ],
      "execution_count": 0,
      "outputs": []
    },
    {
      "cell_type": "code",
      "metadata": {
        "id": "r0PqfBAw5scI",
        "colab_type": "code",
        "colab": {}
      },
      "source": [
        "# THIS CELL INCLUDES STEPS 1-3\n",
        "\n",
        "img_list = []\n",
        "# Extraction of the training images\n",
        "with ZipFile(train_pics_path) as myzip:\n",
        "    pics_in_zip = myzip.namelist() #gives the name of each of the images in the training zip\n",
        "    for i in range(num_train_pics):\n",
        "      image = pics_in_zip[i]\n",
        "      img_name = image[:-4]\n",
        "      with myzip.open(pics_in_zip[i]) as myfile:\n",
        "        img = Image.open(myfile)\n",
        "        bw_img = img.convert('LA')\n",
        "        pix_val = list(bw_img.getdata())\n",
        "        pix_val = np.asarray(pix_val)\n",
        "        white = pix_val[:,0]\n",
        "        black = pix_val[:,1]\n",
        "        max_white = np.max(white)\n",
        "        max_black = np.max(black)\n",
        "        med_white = np.median(white)\n",
        "        med_black = np.median(black)\n",
        "        mean_white = white.mean()\n",
        "        mean_black = black.mean()\n",
        "      img_list.append([img_name, max_white, max_black, med_white, med_black, mean_white, mean_black])\n",
        "      #print(i)"
      ],
      "execution_count": 0,
      "outputs": []
    },
    {
      "cell_type": "code",
      "metadata": {
        "id": "Rh6378EW_b6e",
        "colab_type": "code",
        "colab": {}
      },
      "source": [
        "img_array = np.asarray(img_list) #convert the list into an array for the next stages of computation"
      ],
      "execution_count": 0,
      "outputs": []
    },
    {
      "cell_type": "code",
      "metadata": {
        "id": "B7WI539pOV1r",
        "colab_type": "code",
        "outputId": "2c024aa4-7d71-4623-d34f-a86544a041f2",
        "colab": {
          "base_uri": "https://localhost:8080/",
          "height": 204
        }
      },
      "source": [
        "# INCLUDES STEP 4\n",
        "train_df = pd.DataFrame(img_array) #convert the array into a pandas dataframe for evaluation\n",
        "col_name = ['ID', 'max_white', 'max_black', 'med_white', 'med_black', 'mean_white', 'mean_black']\n",
        "train_df.columns = col_name\n",
        "train_df.head()"
      ],
      "execution_count": 0,
      "outputs": [
        {
          "output_type": "execute_result",
          "data": {
            "text/html": [
              "<div>\n",
              "<style scoped>\n",
              "    .dataframe tbody tr th:only-of-type {\n",
              "        vertical-align: middle;\n",
              "    }\n",
              "\n",
              "    .dataframe tbody tr th {\n",
              "        vertical-align: top;\n",
              "    }\n",
              "\n",
              "    .dataframe thead th {\n",
              "        text-align: right;\n",
              "    }\n",
              "</style>\n",
              "<table border=\"1\" class=\"dataframe\">\n",
              "  <thead>\n",
              "    <tr style=\"text-align: right;\">\n",
              "      <th></th>\n",
              "      <th>ID</th>\n",
              "      <th>max_white</th>\n",
              "      <th>max_black</th>\n",
              "      <th>med_white</th>\n",
              "      <th>med_black</th>\n",
              "      <th>mean_white</th>\n",
              "      <th>mean_black</th>\n",
              "    </tr>\n",
              "  </thead>\n",
              "  <tbody>\n",
              "    <tr>\n",
              "      <th>0</th>\n",
              "      <td>019ce31cc317087ca287f66ad757776952826594</td>\n",
              "      <td>245</td>\n",
              "      <td>255</td>\n",
              "      <td>98.0</td>\n",
              "      <td>255.0</td>\n",
              "      <td>103.82953559027777</td>\n",
              "      <td>255.0</td>\n",
              "    </tr>\n",
              "    <tr>\n",
              "      <th>1</th>\n",
              "      <td>99f0b2fd7abb1d17ba4358063caa021e5f3595ad</td>\n",
              "      <td>253</td>\n",
              "      <td>255</td>\n",
              "      <td>236.0</td>\n",
              "      <td>255.0</td>\n",
              "      <td>224.70681423611111</td>\n",
              "      <td>255.0</td>\n",
              "    </tr>\n",
              "    <tr>\n",
              "      <th>2</th>\n",
              "      <td>39d4fd1e3a7692de85b84411930e526ffca9519f</td>\n",
              "      <td>252</td>\n",
              "      <td>255</td>\n",
              "      <td>92.0</td>\n",
              "      <td>255.0</td>\n",
              "      <td>104.03439670138889</td>\n",
              "      <td>255.0</td>\n",
              "    </tr>\n",
              "    <tr>\n",
              "      <th>3</th>\n",
              "      <td>bedeb8cea1da8d4f806085b59b2f729e79410294</td>\n",
              "      <td>254</td>\n",
              "      <td>255</td>\n",
              "      <td>206.0</td>\n",
              "      <td>255.0</td>\n",
              "      <td>182.166015625</td>\n",
              "      <td>255.0</td>\n",
              "    </tr>\n",
              "    <tr>\n",
              "      <th>4</th>\n",
              "      <td>8f1569e1140f8d321ad2600d47f47072f09ca0e0</td>\n",
              "      <td>251</td>\n",
              "      <td>255</td>\n",
              "      <td>109.0</td>\n",
              "      <td>255.0</td>\n",
              "      <td>116.07432725694444</td>\n",
              "      <td>255.0</td>\n",
              "    </tr>\n",
              "  </tbody>\n",
              "</table>\n",
              "</div>"
            ],
            "text/plain": [
              "                                         ID  ... mean_black\n",
              "0  019ce31cc317087ca287f66ad757776952826594  ...      255.0\n",
              "1  99f0b2fd7abb1d17ba4358063caa021e5f3595ad  ...      255.0\n",
              "2  39d4fd1e3a7692de85b84411930e526ffca9519f  ...      255.0\n",
              "3  bedeb8cea1da8d4f806085b59b2f729e79410294  ...      255.0\n",
              "4  8f1569e1140f8d321ad2600d47f47072f09ca0e0  ...      255.0\n",
              "\n",
              "[5 rows x 7 columns]"
            ]
          },
          "metadata": {
            "tags": []
          },
          "execution_count": 81
        }
      ]
    },
    {
      "cell_type": "code",
      "metadata": {
        "id": "nWM70aP1QRGp",
        "colab_type": "code",
        "colab": {}
      },
      "source": [
        "train_df = pd.concat([labels_df, train_df], axis=1) #concatenate the label dataframe and the interim dataframe together\n",
        "train_df = train_df.drop(['ID','id'],axis=1) #drop the duplicate ID label since they aren'y needed for logistic regression\n",
        "\n",
        "# going to save the df as a csv file so I don't have to go through the steps of calling variables for latter steps\n",
        "#train_df.to_csv(r'/content/drive/My Drive/Colab Notebooks/APS360/Histopathologic Cancer Detection/Extractions.csv')"
      ],
      "execution_count": 0,
      "outputs": []
    },
    {
      "cell_type": "code",
      "metadata": {
        "id": "dX2k4O5ibJdu",
        "colab_type": "code",
        "outputId": "f6702a60-2987-4112-c167-1900075b6059",
        "colab": {
          "base_uri": "https://localhost:8080/",
          "height": 204
        }
      },
      "source": [
        "train_df.head()"
      ],
      "execution_count": 0,
      "outputs": [
        {
          "output_type": "execute_result",
          "data": {
            "text/html": [
              "<div>\n",
              "<style scoped>\n",
              "    .dataframe tbody tr th:only-of-type {\n",
              "        vertical-align: middle;\n",
              "    }\n",
              "\n",
              "    .dataframe tbody tr th {\n",
              "        vertical-align: top;\n",
              "    }\n",
              "\n",
              "    .dataframe thead th {\n",
              "        text-align: right;\n",
              "    }\n",
              "</style>\n",
              "<table border=\"1\" class=\"dataframe\">\n",
              "  <thead>\n",
              "    <tr style=\"text-align: right;\">\n",
              "      <th></th>\n",
              "      <th>label</th>\n",
              "      <th>max_white</th>\n",
              "      <th>max_black</th>\n",
              "      <th>med_white</th>\n",
              "      <th>med_black</th>\n",
              "      <th>mean_white</th>\n",
              "      <th>mean_black</th>\n",
              "    </tr>\n",
              "  </thead>\n",
              "  <tbody>\n",
              "    <tr>\n",
              "      <th>0</th>\n",
              "      <td>0</td>\n",
              "      <td>245</td>\n",
              "      <td>255</td>\n",
              "      <td>98.0</td>\n",
              "      <td>255.0</td>\n",
              "      <td>103.82953559027777</td>\n",
              "      <td>255.0</td>\n",
              "    </tr>\n",
              "    <tr>\n",
              "      <th>1</th>\n",
              "      <td>1</td>\n",
              "      <td>253</td>\n",
              "      <td>255</td>\n",
              "      <td>236.0</td>\n",
              "      <td>255.0</td>\n",
              "      <td>224.70681423611111</td>\n",
              "      <td>255.0</td>\n",
              "    </tr>\n",
              "    <tr>\n",
              "      <th>2</th>\n",
              "      <td>0</td>\n",
              "      <td>252</td>\n",
              "      <td>255</td>\n",
              "      <td>92.0</td>\n",
              "      <td>255.0</td>\n",
              "      <td>104.03439670138889</td>\n",
              "      <td>255.0</td>\n",
              "    </tr>\n",
              "    <tr>\n",
              "      <th>3</th>\n",
              "      <td>0</td>\n",
              "      <td>254</td>\n",
              "      <td>255</td>\n",
              "      <td>206.0</td>\n",
              "      <td>255.0</td>\n",
              "      <td>182.166015625</td>\n",
              "      <td>255.0</td>\n",
              "    </tr>\n",
              "    <tr>\n",
              "      <th>4</th>\n",
              "      <td>0</td>\n",
              "      <td>251</td>\n",
              "      <td>255</td>\n",
              "      <td>109.0</td>\n",
              "      <td>255.0</td>\n",
              "      <td>116.07432725694444</td>\n",
              "      <td>255.0</td>\n",
              "    </tr>\n",
              "  </tbody>\n",
              "</table>\n",
              "</div>"
            ],
            "text/plain": [
              "   label max_white max_black med_white med_black          mean_white mean_black\n",
              "0      0       245       255      98.0     255.0  103.82953559027777      255.0\n",
              "1      1       253       255     236.0     255.0  224.70681423611111      255.0\n",
              "2      0       252       255      92.0     255.0  104.03439670138889      255.0\n",
              "3      0       254       255     206.0     255.0       182.166015625      255.0\n",
              "4      0       251       255     109.0     255.0  116.07432725694444      255.0"
            ]
          },
          "metadata": {
            "tags": []
          },
          "execution_count": 83
        }
      ]
    },
    {
      "cell_type": "code",
      "metadata": {
        "id": "1pJkGMpstrX7",
        "colab_type": "code",
        "outputId": "8403e717-e896-4528-8ace-9f8e3aad724f",
        "colab": {
          "base_uri": "https://localhost:8080/",
          "height": 51
        }
      },
      "source": [
        "#sort the model by cancers (1) and non-cancers (0) for an upsampling (to balance the dataset to 50/50)\n",
        "df_majority = train_df[train_df.label==0]\n",
        "df_minority = train_df[train_df.label==1]\n",
        "\n",
        "print('Dataframe of cancers: ',df_minority.shape)\n",
        "print('Dataframe of non-cancers: ',df_majority.shape)\n"
      ],
      "execution_count": 0,
      "outputs": [
        {
          "output_type": "stream",
          "text": [
            "Dataframe of cancers:  (89117, 7)\n",
            "Dataframe of non-cancers:  (130908, 7)\n"
          ],
          "name": "stdout"
        }
      ]
    },
    {
      "cell_type": "code",
      "metadata": {
        "id": "WlbzwV7Cwgzt",
        "colab_type": "code",
        "colab": {}
      },
      "source": [
        "from sklearn.utils import resample\n",
        "\n",
        "df_minority_upsampled = resample(df_minority, \n",
        "                                 replace=True,    # sample with replacement\n",
        "                                 n_samples=df_majority.shape[0],    # to match majority class\n",
        "                                 random_state=42) # reproducible results"
      ],
      "execution_count": 0,
      "outputs": []
    },
    {
      "cell_type": "code",
      "metadata": {
        "id": "570jmcFnwqP7",
        "colab_type": "code",
        "outputId": "8d18dda0-2219-4d0a-8508-91e3bb3761a6",
        "colab": {
          "base_uri": "https://localhost:8080/",
          "height": 255
        }
      },
      "source": [
        "#show the upsampled minority dataframe\n",
        "print(df_minority_upsampled)"
      ],
      "execution_count": 0,
      "outputs": [
        {
          "output_type": "stream",
          "text": [
            "        label max_white max_black  ... med_black          mean_white mean_black\n",
            "39273       1       251       255  ...     255.0  115.50499131944444      255.0\n",
            "2161        1       252       255  ...     255.0  128.69618055555554      255.0\n",
            "189630      1       254       255  ...     255.0  177.15169270833334      255.0\n",
            "135912      1       254       255  ...     255.0  196.68891059027777      255.0\n",
            "15647       1       254       255  ...     255.0       122.814453125      255.0\n",
            "...       ...       ...       ...  ...       ...                 ...        ...\n",
            "181432      1       254       255  ...     255.0  160.57790798611111      255.0\n",
            "218686      1       255       255  ...     255.0  192.77549913194446      255.0\n",
            "47271       1       217       255  ...     255.0       93.5146484375      255.0\n",
            "191746      1       252       255  ...     255.0  220.28504774305554      255.0\n",
            "98887       1       252       255  ...     255.0  113.88194444444444      255.0\n",
            "\n",
            "[130908 rows x 7 columns]\n"
          ],
          "name": "stdout"
        }
      ]
    },
    {
      "cell_type": "code",
      "metadata": {
        "id": "2VlAlTiQtqfD",
        "colab_type": "code",
        "outputId": "32bdacc9-64ad-4314-f8d0-883d829da6fb",
        "colab": {
          "base_uri": "https://localhost:8080/",
          "height": 68
        }
      },
      "source": [
        "# Combine majority class with upsampled minority class\n",
        "trainer_df = pd.concat([df_majority, df_minority_upsampled])\n",
        "\n",
        "# Display new class counts\n",
        "trainer_df.label.value_counts()\n",
        "\n",
        "# Dataset is now split"
      ],
      "execution_count": 0,
      "outputs": [
        {
          "output_type": "execute_result",
          "data": {
            "text/plain": [
              "1    130908\n",
              "0    130908\n",
              "Name: label, dtype: int64"
            ]
          },
          "metadata": {
            "tags": []
          },
          "execution_count": 87
        }
      ]
    },
    {
      "cell_type": "code",
      "metadata": {
        "id": "uM7P4HPwTk-d",
        "colab_type": "code",
        "outputId": "f8b3b0da-fc66-4d23-f984-0e22381293ea",
        "colab": {
          "base_uri": "https://localhost:8080/",
          "height": 238
        }
      },
      "source": [
        "# Since the testing data is supposed to not be prior to the investigation, I will split the training data to an 80/20\n",
        "# split for the purposes of the baseline approximation\n",
        "\n",
        "from sklearn.linear_model import LogisticRegression #logistic regression\n",
        "from sklearn.model_selection import train_test_split #make the train and test split functions\n",
        "\n",
        "#Since from the looks of the training dataframe, the black ones are always at 255 (max values), \n",
        "#I'll only add in the mean so as to not over-bias the beta values of the model\n",
        "trainer = trainer_df.drop(['max_black','med_black','label','mean_black'],axis=1) #final training dataframe\n",
        "X_train, X_test, y_train, y_test = train_test_split(trainer, #training columns declarations\n",
        "                                                    trainer_df['label'], #the test column\n",
        "                                                    test_size=0.2, random_state=42) #remaining states\n",
        "\n",
        "#Create the logistic regression model\n",
        "logreg = LogisticRegression(random_state=69) #declaring the logistic regression function\n",
        "logreg.fit(X_train, y_train) #creating logistic regression fit with the training data\n",
        "rand_probs = logreg.predict_proba(X_train[2342:2352]) #see random logit distribution for 10 images in training data\n",
        "out = logreg.predict(X_train[2342:2352]) #make sure the outputs correspond with the highest probability\n",
        "print(rand_probs,'\\n',out)"
      ],
      "execution_count": 0,
      "outputs": [
        {
          "output_type": "stream",
          "text": [
            "/usr/local/lib/python3.6/dist-packages/sklearn/linear_model/logistic.py:432: FutureWarning: Default solver will be changed to 'lbfgs' in 0.22. Specify a solver to silence this warning.\n",
            "  FutureWarning)\n"
          ],
          "name": "stderr"
        },
        {
          "output_type": "stream",
          "text": [
            "[[0.49943422 0.50056578]\n",
            " [0.50000786 0.49999214]\n",
            " [0.5022621  0.4977379 ]\n",
            " [0.49961324 0.50038676]\n",
            " [0.5069873  0.4930127 ]\n",
            " [0.50112456 0.49887544]\n",
            " [0.49847162 0.50152838]\n",
            " [0.50007211 0.49992789]\n",
            " [0.49914167 0.50085833]\n",
            " [0.49910333 0.50089667]] \n",
            " [1 0 0 1 0 0 1 0 1 1]\n"
          ],
          "name": "stdout"
        }
      ]
    },
    {
      "cell_type": "code",
      "metadata": {
        "id": "e2ZHXAjAhzyB",
        "colab_type": "code",
        "outputId": "3e9d67f6-3fae-4a38-9444-4fa9e83af369",
        "colab": {
          "base_uri": "https://localhost:8080/",
          "height": 51
        }
      },
      "source": [
        "# See the weights placed on the parameters\n",
        "print(X_train.columns)\n",
        "logreg.coef_ #seem pretty balanced for the value parameters, given that they are in the same order of magnitude"
      ],
      "execution_count": 0,
      "outputs": [
        {
          "output_type": "stream",
          "text": [
            "Index(['max_white', 'med_white', 'mean_white'], dtype='object')\n"
          ],
          "name": "stdout"
        },
        {
          "output_type": "execute_result",
          "data": {
            "text/plain": [
              "array([[ 3.86056844e-05, -1.02981544e-03,  1.12311821e-03]])"
            ]
          },
          "metadata": {
            "tags": []
          },
          "execution_count": 89
        }
      ]
    },
    {
      "cell_type": "code",
      "metadata": {
        "id": "1LwjKVREgcvh",
        "colab_type": "code",
        "outputId": "12da6c37-26c9-4ce7-b679-b9ea7d7ef713",
        "colab": {
          "base_uri": "https://localhost:8080/",
          "height": 34
        }
      },
      "source": [
        "# Final stage - baseline test of the logistic regression model\n",
        "base_score = logreg.score(X_test, y_test)\n",
        "print(base_score)"
      ],
      "execution_count": 0,
      "outputs": [
        {
          "output_type": "stream",
          "text": [
            "0.5008593690321596\n"
          ],
          "name": "stdout"
        }
      ]
    },
    {
      "cell_type": "code",
      "metadata": {
        "id": "Vla7S3ER1sKq",
        "colab_type": "code",
        "outputId": "f327f5c5-42d5-4af8-fb16-bf1746d2ec6b",
        "colab": {
          "base_uri": "https://localhost:8080/",
          "height": 34
        }
      },
      "source": [
        "#sanity check on small subset of data\n",
        "fs = train_df[0:1651]\n",
        "fs_log = fs.drop(['max_black','med_black','label','mean_black'],axis=1)\n",
        "fs_label = np.asarray(fs['label'])\n",
        "#print(fs_log)\n",
        "#print(fs_label)\n",
        "#print('logistic regression prediction: ', logreg.predict(fs_log))\n",
        "#print('actual labels from the fs data: ', fs_label)\n",
        "\n",
        "n = 0 #correct number counter\n",
        "for i in range(len(fs_label)):\n",
        "  if logreg.predict(fs_log)[i] == fs_label[i]:\n",
        "    n+=1\n",
        "\n",
        "print('accuracy of the feasibility test is: ', n/len(fs_label))\n",
        "\n"
      ],
      "execution_count": 0,
      "outputs": [
        {
          "output_type": "stream",
          "text": [
            "accuracy of the feasibility test is:  0.5105996365838885\n"
          ],
          "name": "stdout"
        }
      ]
    },
    {
      "cell_type": "code",
      "metadata": {
        "id": "Y9GiA-9kQQiR",
        "colab_type": "code",
        "outputId": "073d7aa0-f411-42f7-ba81-68d3b5ab5c40",
        "colab": {
          "base_uri": "https://localhost:8080/",
          "height": 204
        }
      },
      "source": [
        "trainn = train_df.drop(['max_black','med_black','mean_black'],axis=1)\n",
        "trainn.head()"
      ],
      "execution_count": 0,
      "outputs": [
        {
          "output_type": "execute_result",
          "data": {
            "text/html": [
              "<div>\n",
              "<style scoped>\n",
              "    .dataframe tbody tr th:only-of-type {\n",
              "        vertical-align: middle;\n",
              "    }\n",
              "\n",
              "    .dataframe tbody tr th {\n",
              "        vertical-align: top;\n",
              "    }\n",
              "\n",
              "    .dataframe thead th {\n",
              "        text-align: right;\n",
              "    }\n",
              "</style>\n",
              "<table border=\"1\" class=\"dataframe\">\n",
              "  <thead>\n",
              "    <tr style=\"text-align: right;\">\n",
              "      <th></th>\n",
              "      <th>label</th>\n",
              "      <th>max_white</th>\n",
              "      <th>med_white</th>\n",
              "      <th>mean_white</th>\n",
              "    </tr>\n",
              "  </thead>\n",
              "  <tbody>\n",
              "    <tr>\n",
              "      <th>0</th>\n",
              "      <td>0</td>\n",
              "      <td>245</td>\n",
              "      <td>98.0</td>\n",
              "      <td>103.829536</td>\n",
              "    </tr>\n",
              "    <tr>\n",
              "      <th>1</th>\n",
              "      <td>1</td>\n",
              "      <td>253</td>\n",
              "      <td>236.0</td>\n",
              "      <td>224.706814</td>\n",
              "    </tr>\n",
              "    <tr>\n",
              "      <th>2</th>\n",
              "      <td>0</td>\n",
              "      <td>252</td>\n",
              "      <td>92.0</td>\n",
              "      <td>104.034397</td>\n",
              "    </tr>\n",
              "    <tr>\n",
              "      <th>3</th>\n",
              "      <td>0</td>\n",
              "      <td>254</td>\n",
              "      <td>206.0</td>\n",
              "      <td>182.166016</td>\n",
              "    </tr>\n",
              "    <tr>\n",
              "      <th>4</th>\n",
              "      <td>0</td>\n",
              "      <td>251</td>\n",
              "      <td>109.0</td>\n",
              "      <td>116.074327</td>\n",
              "    </tr>\n",
              "  </tbody>\n",
              "</table>\n",
              "</div>"
            ],
            "text/plain": [
              "   label  max_white  med_white  mean_white\n",
              "0      0        245       98.0  103.829536\n",
              "1      1        253      236.0  224.706814\n",
              "2      0        252       92.0  104.034397\n",
              "3      0        254      206.0  182.166016\n",
              "4      0        251      109.0  116.074327"
            ]
          },
          "metadata": {
            "tags": []
          },
          "execution_count": 31
        }
      ]
    }
  ]
}